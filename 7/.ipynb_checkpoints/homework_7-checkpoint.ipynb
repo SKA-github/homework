{
 "cells": [
  {
   "cell_type": "markdown",
   "metadata": {},
   "source": [
    "# Домашнее задание к лекции «Исключения и обработка ошибок»"
   ]
  },
  {
   "cell_type": "markdown",
   "metadata": {},
   "source": [
    "## Задание 1"
   ]
  },
  {
   "cell_type": "markdown",
   "metadata": {},
   "source": [
    "Печатные газеты использовали свой формат дат для каждого выпуска. Для каждой газеты из списка напишите формат указанной даты для перевода в объект datetime:\n",
    "\n",
    "The Moscow Times - Wednesday, October 2, 2002\n",
    "\n",
    "The Guardian - Friday, 11.10.13\n",
    "\n",
    "Daily News - Thursday, 18 August 1977"
   ]
  },
  {
   "cell_type": "code",
   "execution_count": 1,
   "metadata": {},
   "outputs": [],
   "source": [
    "from datetime import datetime"
   ]
  },
  {
   "cell_type": "code",
   "execution_count": 2,
   "metadata": {},
   "outputs": [
    {
     "name": "stdout",
     "output_type": "stream",
     "text": [
      "10.02.2002\n"
     ]
    }
   ],
   "source": [
    "str = \"Wednesday, October 2, 2002\"\n",
    "\n",
    "pattern_in = \"%A, %B %d, %Y\"\n",
    "pattern_out = \"%m.%d.%Y\"\n",
    "\n",
    "date_m_t = datetime.strptime(str, pattern_in)\n",
    "\n",
    "print(datetime.strftime(date_m_t, pattern_out))"
   ]
  },
  {
   "cell_type": "code",
   "execution_count": 3,
   "metadata": {},
   "outputs": [
    {
     "name": "stdout",
     "output_type": "stream",
     "text": [
      "11.10.2013\n"
     ]
    }
   ],
   "source": [
    "str = \"Friday, 11.10.13\"\n",
    "\n",
    "pattern_in = \"%A, %m.%d.%y\"\n",
    "pattern_out = \"%m.%d.%Y\"\n",
    "\n",
    "date_g = datetime.strptime(str, pattern_in)\n",
    "\n",
    "print(datetime.strftime(date_g, pattern_out))"
   ]
  },
  {
   "cell_type": "code",
   "execution_count": 4,
   "metadata": {},
   "outputs": [
    {
     "name": "stdout",
     "output_type": "stream",
     "text": [
      "08.18.1977\n"
     ]
    }
   ],
   "source": [
    "str = \"Thursday, 18 August 1977\"\n",
    "\n",
    "pattern_in = \"%A, %d %B %Y\"\n",
    "pattern_out = \"%m.%d.%Y\"\n",
    "\n",
    "date_d_n = datetime.strptime(str, pattern_in)\n",
    "\n",
    "print(datetime.strftime(date_d_n, pattern_out))"
   ]
  },
  {
   "cell_type": "markdown",
   "metadata": {},
   "source": [
    "## Задание 2"
   ]
  },
  {
   "cell_type": "markdown",
   "metadata": {},
   "source": [
    "Дан поток дат в формате YYYY-MM-DD, в которых встречаются некорректные значения:\n",
    "    \n",
    "stream = [‘2018-04-02’, ‘2018-02-29’, ‘2018-19-02’]\n",
    "\n",
    "Напишите функцию, которая проверяет эти даты на корректность. Т. е. для каждой даты возвращает True (дата корректна) или False (некорректная дата)."
   ]
  },
  {
   "cell_type": "code",
   "execution_count": 5,
   "metadata": {},
   "outputs": [],
   "source": [
    "stream = ['2018-04-02', '2018-02-29', '2018-19-02']"
   ]
  },
  {
   "cell_type": "code",
   "execution_count": 6,
   "metadata": {},
   "outputs": [],
   "source": [
    "from datetime import date"
   ]
  },
  {
   "cell_type": "code",
   "execution_count": 7,
   "metadata": {},
   "outputs": [
    {
     "name": "stdout",
     "output_type": "stream",
     "text": [
      "[True, False, False]\n"
     ]
    }
   ],
   "source": [
    "from datetime import datetime\n",
    "\n",
    "stream = ['2018-04-02', '2018-02-29', '2018-19-02']\n",
    "\n",
    "date_check_list = []\n",
    "def date_check(args):\n",
    "    for i in args:\n",
    "        try:\n",
    "            a = datetime.strptime(i, \"%Y-%m-%d\")\n",
    "            date_check_list.append(True)        \n",
    "        except:\n",
    "            date_check_list.append(False)\n",
    " \n",
    "    print(date_check_list)\n",
    "date_check(stream)"
   ]
  },
  {
   "cell_type": "code",
   "execution_count": null,
   "metadata": {},
   "outputs": [],
   "source": []
  },
  {
   "cell_type": "markdown",
   "metadata": {},
   "source": [
    "## Задание 3"
   ]
  },
  {
   "cell_type": "markdown",
   "metadata": {},
   "source": [
    "Напишите функцию date_range, которая возвращает список дат за период от start_date до end_date. Даты должны вводиться в формате YYYY-MM-DD. В случае неверного формата или при start_date > end_date должен возвращаться пустой список."
   ]
  },
  {
   "cell_type": "code",
   "execution_count": 8,
   "metadata": {},
   "outputs": [
    {
     "name": "stdout",
     "output_type": "stream",
     "text": [
      "Введите начальную дату периода в формате YYYY-MM-DD: 2020-11-05\n",
      "Введите конечную дату периода в формате YYYY-MM-DD: 2020-11-08\n",
      "[datetime.datetime(2020, 11, 5, 0, 0)]\n",
      "[datetime.datetime(2020, 11, 6, 0, 0)]\n",
      "[datetime.datetime(2020, 11, 7, 0, 0)]\n",
      "[datetime.datetime(2020, 11, 8, 0, 0)]\n"
     ]
    }
   ],
   "source": [
    "from datetime import datetime\n",
    "from datetime import timedelta\n",
    "\n",
    "def date_range():\n",
    "    start_date = input(\"Введите начальную дату периода в формате YYYY-MM-DD: \")\n",
    "    end_date = input(\"Введите конечную дату периода в формате YYYY-MM-DD: \")\n",
    "    period = []\n",
    "\n",
    "    try:\n",
    "        start_date = datetime.strptime(start_date, \"%Y-%m-%d\")\n",
    "        end_date = datetime.strptime(end_date, \"%Y-%m-%d\")\n",
    "        start_date < end_date\n",
    "    except:\n",
    "        return period\n",
    "\n",
    "    delta = end_date - start_date\n",
    "    for i in range(delta.days + 1):\n",
    "        period = [start_date + timedelta(i)]\n",
    "        print(period)\n",
    "\n",
    "date_range()\n",
    "\n",
    "\n",
    "\n"
   ]
  },
  {
   "cell_type": "code",
   "execution_count": null,
   "metadata": {},
   "outputs": [],
   "source": []
  }
 ],
 "metadata": {
  "kernelspec": {
   "display_name": "Python 3",
   "language": "python",
   "name": "python3"
  },
  "language_info": {
   "codemirror_mode": {
    "name": "ipython",
    "version": 3
   },
   "file_extension": ".py",
   "mimetype": "text/x-python",
   "name": "python",
   "nbconvert_exporter": "python",
   "pygments_lexer": "ipython3",
   "version": "3.8.3"
  }
 },
 "nbformat": 4,
 "nbformat_minor": 4
}
